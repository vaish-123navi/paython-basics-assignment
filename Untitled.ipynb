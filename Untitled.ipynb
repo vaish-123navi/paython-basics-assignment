{
 "cells": [
  {
   "cell_type": "code",
   "execution_count": null,
   "id": "bd74472a-6b1f-405e-99c5-6527594341ae",
   "metadata": {},
   "outputs": [],
   "source": [
    "1. What is Python, and why is it popular ?\n",
    "-Python is a programming language used to create software, websites, apps, and more. It is known for - easy to read, write, and learn.\n",
    "\n",
    " it is popular because of \n",
    " a) Simple syntax \n",
    " b)Beginner-friendly\n",
    " C)Used in many fields (web, data science, AI, etc.)\n",
    " d)Has lots of libraries like pandas ,numpy and many more.\n",
    "\n",
    "2.What is an interpreter in Python ?\n",
    "-An interpreter is a program that reads and runs Python code line by line.\n",
    "\n",
    "3. What are pre-defined keywords in Python ?\n",
    "-keywords are predefined words that holds a special meaning and have specific purpose .\n",
    " some keywords are- false, true, if, or, import, none, del, def, print, type, else, etc.\n",
    "\n",
    "4. Can keywords be used as variable names?\n",
    "-No, keywords cannot be used as variable names in Python.\n",
    " Keywords are special words that have a fixed meaning in Python (like if, while, for, True, etc.). Python uses them to understand the code, so you      can't use them for a variable name.\n",
    "\n",
    "Example -\n",
    "if = 10 ( #This will give an error)\n",
    "\n",
    "5.What is mutability in Python ?\n",
    "-Objects/ Container, whose state or value can be changed after they are created, are called as Mutable Objects or Container, also called as Item         Assignment. \n",
    "\n",
    "6. Why are lists mutable, but tuples are immutable ?\n",
    "-Lists are mutable because you can change their items after they are created.\n",
    " Tuples are immutable because you cannot change, add, or remove items once they are created.\n",
    "\n",
    "7.What is the difference between “==” and “is” operators in Python?\n",
    "-In python \"==\" checks if two values are equal.And \"is\" checks if two variables point to the same object in memory.\n",
    " Example:   a = [1, 2, 3]\n",
    "            b = [1, 2, 3]\n",
    "            print(a == b)  ( # True → values are the same)\n",
    "            print(a is b)  ( # False → not the same object in memory)\n",
    "\n",
    "8.What are logical operators in Python ?\n",
    "-Logical operators are used to combine two or more conditions. They return True or False.\n",
    " There are 3 main logical operators:\n",
    " i) and – True if both conditions are true\n",
    " ii) or – True if at least one condition is true\n",
    " iii) not – Reverses the result (True becomes False, and false becomes true)\n",
    "\n",
    "9.8 What is type casting in Python ?\n",
    "-Type casting means changing one data type into another.cast means to change the format. we can turn a number into a string, or a string into a number.\n",
    " example- a=\"3.5\"\n",
    "         type (a)\n",
    " output- str\n",
    " to change the string value into float-\n",
    "         type (float(a))\n",
    " output- float\n",
    "\n",
    "10. What is the difference between implicit and explicit type casting ?\n",
    "-Implicit Type Casting - python automatically changes the data type ( done by Python).\n",
    " Example:\n",
    " x = 5      ( # int)\n",
    " y = 2.0     (# float)\n",
    " z = x + y  ( # Python converts x to float automatically)\n",
    " print(z)   \n",
    " Output- 7.0 (float)\n",
    " Explicit Type Casting - we have to manually change the data type (done by the programmer using functions like int(), float(), str()).\n",
    " Example:\n",
    " a = \"10\"\n",
    " b = int(a)  (# we changed string to int)\n",
    " print(b + 5)  \n",
    " Output- 15\n",
    "\n",
    "11.What is the purpose of conditional statements in Python ?\n",
    "-Conditional statements are used to make decisions in a program. They help the program choose what to do based on conditions (True or False).\n",
    "\n",
    "12. How does the elif statement work ?\n",
    "-The elif allows us to check multiple conditions after an if statement. It's useful when we have more than two possible outcomes.\n",
    "\n",
    "13.What is the difference between for and while loops ?\n",
    "-\"for Loop\"- The for loop is used when you know how many times you want to repeat the block of code.\n",
    " It iterates over a sequence (like a list, range, or string).\n",
    " Example- for i in range(5):\n",
    "    print(i)\n",
    " Output- 0, 1, 2, 3, 4\n",
    " \"while Loop\" -The while loop is used when you want to repeat the block of code as long as a condition is true.\n",
    " You may not know the exact number of repetitions in advance.\n",
    " Example-i = 0\n",
    "  while i < 5:\n",
    "    print(i)\n",
    "    i += 1  # Don't forget to update the condition\n",
    " Output- 0, 1, 2, 3, 4\n",
    "\n",
    "14.8 Describe a scenario where a while loop is more suitable than a for loop?\n",
    "-A while loop is better when you don't know in advance how many times the loop will run .\n",
    " for example, waiting for user input or a condition to become false.\n",
    " Example- User Login Attempt\n",
    " You want to keep asking the user for a password until they enter the correct one\n",
    " correct_password = \"hello123\"\n",
    " user_input = \"\"\n",
    "\n",
    " while user_input != correct_password:\n",
    " user_input = input(\"Enter password: \")\n",
    " print(\"Access granted!\")\n",
    "  while is better here because-\n",
    " You don't know how many tries the user will take.\n",
    " And the loop runs until the condition is met.\n",
    "\n",
    "\n",
    "\n",
    "\n",
    "\n",
    "\n",
    "\n",
    "\n"
   ]
  },
  {
   "cell_type": "code",
   "execution_count": 2,
   "id": "d7a07f38-e12d-47b7-b786-d98522144036",
   "metadata": {},
   "outputs": [
    {
     "name": "stdout",
     "output_type": "stream",
     "text": [
      "hello world!\n"
     ]
    }
   ],
   "source": [
    "#Write a Python program to print \"Hello, World!\"\n",
    "print ( \"hello world!\")\n"
   ]
  },
  {
   "cell_type": "code",
   "execution_count": 3,
   "id": "d22bb1bb-8394-47a5-a02c-4d5d79bb3c94",
   "metadata": {},
   "outputs": [
    {
     "name": "stdout",
     "output_type": "stream",
     "text": [
      "My name is  Vaishnavi Gupta\n",
      "I am 20 years old\n"
     ]
    }
   ],
   "source": [
    "#Write a Python program that displays your name and age.\n",
    "name =\" Vaishnavi Gupta\"\n",
    "age = 20\n",
    "print(\"My name is\", name)\n",
    "print(\"I am\", age, \"years old\")"
   ]
  },
  {
   "cell_type": "code",
   "execution_count": 4,
   "id": "baaca11c-ce71-4206-b33d-5ff263c42dba",
   "metadata": {},
   "outputs": [
    {
     "name": "stdout",
     "output_type": "stream",
     "text": [
      "\n",
      "Here is a list of the Python keywords.  Enter any keyword to get more help.\n",
      "\n",
      "False               class               from                or\n",
      "None                continue            global              pass\n",
      "True                def                 if                  raise\n",
      "and                 del                 import              return\n",
      "as                  elif                in                  try\n",
      "assert              else                is                  while\n",
      "async               except              lambda              with\n",
      "await               finally             nonlocal            yield\n",
      "break               for                 not                 \n",
      "\n"
     ]
    }
   ],
   "source": [
    "#Write code to print all the pre-defined keywords in Python using the keyword library.\n",
    "help ('keywords')"
   ]
  },
  {
   "cell_type": "code",
   "execution_count": 6,
   "id": "bf8d01ca-891b-4a93-9de9-cbcede44f543",
   "metadata": {},
   "outputs": [
    {
     "name": "stdin",
     "output_type": "stream",
     "text": [
      "Enter a word:  if\n"
     ]
    },
    {
     "name": "stdout",
     "output_type": "stream",
     "text": [
      "'if' is a Python keyword.\n"
     ]
    }
   ],
   "source": [
    "#Write a program that checks if a given word is a Python keyword.\n",
    "import keyword\n",
    "\n",
    "word = input(\"Enter a word: \")\n",
    "\n",
    "if keyword.iskeyword(word):\n",
    "    print(f\"'{word}' is a Python keyword.\")\n",
    "else:\n",
    "    print(f\"'{word}' is NOT a Python keyword.\")"
   ]
  },
  {
   "cell_type": "code",
   "execution_count": 7,
   "id": "71563285-ad57-4253-b405-a5c7a899839f",
   "metadata": {},
   "outputs": [
    {
     "name": "stdout",
     "output_type": "stream",
     "text": [
      "Original list: [10, 20, 30]\n",
      "Modified list: [10, 200, 30]\n",
      "Original tuple: (10, 20, 30)\n",
      "Error: 'tuple' object does not support item assignment\n"
     ]
    }
   ],
   "source": [
    "#. Create a list and tuple in Python, and demonstrate how attempting to change an element works differently for each.\n",
    "my_list = [10, 20, 30]\n",
    "print(\"Original list:\", my_list)\n",
    "\n",
    "# Changing an element in the list (this works)\n",
    "my_list[1] = 200\n",
    "print(\"Modified list:\", my_list)\n",
    "\n",
    "# Creating a tuple\n",
    "my_tuple = (10, 20, 30)\n",
    "print(\"Original tuple:\", my_tuple)\n",
    "\n",
    "# Trying to change an element in the tuple (this will cause an error)\n",
    "try:\n",
    "    my_tuple[1] = 200 \n",
    "    #Tuples are immutable\n",
    "except TypeError as e:\n",
    "    print(\"Error:\", e)"
   ]
  },
  {
   "cell_type": "code",
   "execution_count": 8,
   "id": "a4782c26-9615-4905-8e7d-e54a8fc7b33e",
   "metadata": {},
   "outputs": [
    {
     "name": "stdout",
     "output_type": "stream",
     "text": [
      "Inside function:\n",
      "num = 15\n",
      "my_list = [1, 2, 3, 100]\n",
      "\n",
      "Outside function:\n",
      "number = 5\n",
      "numbers_list = [1, 2, 3, 100]\n"
     ]
    }
   ],
   "source": [
    "#Write a function to demonstrate the behavior of mutable and immutable arguments.\n",
    "def modify_values(num, my_list):\n",
    "    num += 10          # Try to change the integer (immutable)\n",
    "    my_list.append(100)  # Modify the list (mutable)\n",
    "    print(\"Inside function:\")\n",
    "    print(\"num =\", num)\n",
    "    print(\"my_list =\", my_list)\n",
    "\n",
    "# Immutable argument\n",
    "number = 5\n",
    "\n",
    "# Mutable argument\n",
    "numbers_list = [1, 2, 3]\n",
    "\n",
    "modify_values(number, numbers_list)\n",
    "\n",
    "print(\"\\nOutside function:\")\n",
    "print(\"number =\", number)             # Not changed\n",
    "print(\"numbers_list =\", numbers_list) # Changed\n",
    "\n",
    "\n",
    "\n",
    "\n",
    "\n",
    "\n",
    "\n",
    "\n",
    "\n",
    "\n"
   ]
  },
  {
   "cell_type": "code",
   "execution_count": 9,
   "id": "8dd1f199-9b2f-4367-8f87-cebdfd394f43",
   "metadata": {},
   "outputs": [
    {
     "name": "stdin",
     "output_type": "stream",
     "text": [
      " enter first number  5\n",
      " enter second number  17\n"
     ]
    },
    {
     "name": "stdout",
     "output_type": "stream",
     "text": [
      "Addition: 22\n",
      "Subtraction: -12\n",
      "Multiplication: 85\n",
      "Division: 0.29411764705882354\n"
     ]
    }
   ],
   "source": [
    "#Write a program that performs basic arithmetic operations on two user-input numbers.\n",
    "a = int(input(\" enter first number \"))\n",
    "b = int(input(\" enter second number \"))\n",
    "print(\"Addition:\", a + b)\n",
    "print(\"Subtraction:\", a - b)\n",
    "print(\"Multiplication:\", a * b)\n",
    "if b != 0:\n",
    "    print(\"Division:\", a / b)\n",
    "else:\n",
    "    print(\"Cannot divide by zero!\")"
   ]
  },
  {
   "cell_type": "code",
   "execution_count": 10,
   "id": "496495d9-a3b1-4c45-b548-dfb1a4ef54ca",
   "metadata": {},
   "outputs": [
    {
     "name": "stdin",
     "output_type": "stream",
     "text": [
      "Enter your age:  20\n",
      "Do you have an ID? (yes/no):  yes\n"
     ]
    },
    {
     "name": "stdout",
     "output_type": "stream",
     "text": [
      "You are allowed to enter.\n",
      "\n",
      "Logical Operator Examples:\n",
      "a and b: False\n",
      "a or b: True\n",
      "not a: False\n"
     ]
    }
   ],
   "source": [
    "#Write a program to demonstrate the use of logical operators.\n",
    "age = int(input(\"Enter your age: \"))\n",
    "has_id = input(\"Do you have an ID? (yes/no): \")\n",
    "if age >= 18 and has_id == \"yes\":\n",
    "    print(\"You are allowed to enter.\")\n",
    "else:\n",
    "    print(\"You are NOT allowed to enter.\")\n",
    "a = True\n",
    "b = False\n",
    "\n",
    "print(\"\\nLogical Operator Examples:\")\n",
    "print(\"a and b:\", a and b)   \n",
    "print(\"a or b:\", a or b)     \n",
    "print(\"not a:\", not a)       "
   ]
  },
  {
   "cell_type": "code",
   "execution_count": 11,
   "id": "6feacce6-75bb-4f5d-8ad3-2e2b6d925bf5",
   "metadata": {},
   "outputs": [
    {
     "name": "stdout",
     "output_type": "stream",
     "text": [
      "Integer: 123\n",
      "Float: 123.0\n",
      "Boolean: True\n"
     ]
    }
   ],
   "source": [
    "# Write a Python program to convert user input from string to integer, float, and boolean types.\n",
    "user_input = \"123\"\n",
    "\n",
    "# Convert to integer\n",
    "try:\n",
    "    int_value = int(user_input)\n",
    "    print(\"Integer:\", int_value)\n",
    "except ValueError:\n",
    "    print(\"Cannot convert to integer.\")\n",
    "\n",
    "# Convert to float\n",
    "try:\n",
    "    float_value = float(user_input)\n",
    "    print(\"Float:\", float_value)\n",
    "except ValueError:\n",
    "    print(\"Cannot convert to float.\")\n",
    "\n",
    "# Convert to boolean\n",
    "# In Python, any non-empty string is True, empty string is False\n",
    "bool_value = bool(user_input)\n",
    "print(\"Boolean:\", bool_value)\n"
   ]
  },
  {
   "cell_type": "code",
   "execution_count": 12,
   "id": "527ee0dc-a947-402a-8924-e8f8270f7c96",
   "metadata": {},
   "outputs": [
    {
     "name": "stdout",
     "output_type": "stream",
     "text": [
      "Integer List: [10, 20, 30]\n",
      "Float List: [10.0, 20.0, 30.0]\n",
      "Boolean List: [True, True, True]\n"
     ]
    }
   ],
   "source": [
    "#Write code to demonstrate type casting with list elements.\n",
    "# List with string numbers\n",
    "str_list = [\"10\", \"20\", \"30\"]\n",
    "\n",
    "# Convert each element to integer\n",
    "int_list = [int(x) for x in str_list]\n",
    "print(\"Integer List:\", int_list)\n",
    "\n",
    "# Convert each element to float\n",
    "float_list = [float(x) for x in str_list]\n",
    "print(\"Float List:\", float_list)\n",
    "\n",
    "# Convert each element to boolean\n",
    "bool_list = [bool(x) for x in str_list]\n",
    "print(\"Boolean List:\", bool_list)"
   ]
  },
  {
   "cell_type": "code",
   "execution_count": 13,
   "id": "d0e04056-bc88-40ca-87a4-ddf82aabbbee",
   "metadata": {},
   "outputs": [
    {
     "name": "stdin",
     "output_type": "stream",
     "text": [
      "Enter a number:  14\n"
     ]
    },
    {
     "name": "stdout",
     "output_type": "stream",
     "text": [
      "The number is positive.\n"
     ]
    }
   ],
   "source": [
    "# Write a program that checks if a number is positive, negative, or zero.\n",
    "# Get input from the user\n",
    "num = float(input(\"Enter a number: \"))\n",
    "\n",
    "# Check if the number is positive, negative, or zero\n",
    "if num > 0:\n",
    "    print(\"The number is positive.\")\n",
    "elif num < 0:\n",
    "    print(\"The number is negative.\")\n",
    "else:\n",
    "    print(\"The number is zero.\")"
   ]
  },
  {
   "cell_type": "code",
   "execution_count": 14,
   "id": "0014a176-2738-41a0-8a02-e1565fd93760",
   "metadata": {},
   "outputs": [
    {
     "name": "stdout",
     "output_type": "stream",
     "text": [
      "1\n",
      "2\n",
      "3\n",
      "4\n",
      "5\n",
      "6\n",
      "7\n",
      "8\n",
      "9\n",
      "10\n"
     ]
    }
   ],
   "source": [
    "#. Write a for loop to print numbers from 1 to 10.\n",
    "for i in range(1, 11):\n",
    "    print(i)"
   ]
  },
  {
   "cell_type": "code",
   "execution_count": 15,
   "id": "adccf592-ae23-4fae-9674-234299101823",
   "metadata": {},
   "outputs": [
    {
     "name": "stdout",
     "output_type": "stream",
     "text": [
      "Sum of even numbers from 1 to 50 is: 650\n"
     ]
    }
   ],
   "source": [
    "# Write a Python program to find the sum of all even numbers between 1 and 50.\n",
    "total = 0\n",
    "\n",
    "for i in range(1, 51):\n",
    "    if i % 2 == 0:\n",
    "        total += i\n",
    "\n",
    "print(\"Sum of even numbers from 1 to 50 is:\", total)"
   ]
  },
  {
   "cell_type": "code",
   "execution_count": 16,
   "id": "f64d3f7c-38fe-4cbb-9de5-30c08ac101a2",
   "metadata": {},
   "outputs": [
    {
     "name": "stdout",
     "output_type": "stream",
     "text": [
      "Original string: hello\n",
      "Reversed string: olleh\n"
     ]
    }
   ],
   "source": [
    "#. Write a program to reverse a string using a while loop.\n",
    "text = \"hello\"\n",
    "reversed_text = \"\"\n",
    "\n",
    "i = len(text) - 1\n",
    "\n",
    "while i >= 0:\n",
    "    reversed_text += text[i]\n",
    "    i -= 1\n",
    "\n",
    "print(\"Original string:\", text)\n",
    "print(\"Reversed string:\", reversed_text)"
   ]
  },
  {
   "cell_type": "code",
   "execution_count": 17,
   "id": "0c01192d-7176-4c8e-9ead-7ebab96ccbc6",
   "metadata": {},
   "outputs": [
    {
     "name": "stdin",
     "output_type": "stream",
     "text": [
      "Enter a number:  27\n"
     ]
    },
    {
     "name": "stdout",
     "output_type": "stream",
     "text": [
      "Factorial of 27 is: 10888869450418352160768000000\n"
     ]
    }
   ],
   "source": [
    "#. Write a Python program to calculate the factorial of a number provided by the user using a while loop\n",
    "num = int(input(\"Enter a number: \"))\n",
    "factorial = 1\n",
    "i = 1\n",
    "\n",
    "\n",
    "if num < 0:\n",
    "    print(\"Factorial is not defined for negative numbers.\")\n",
    "else:\n",
    "    while i <= num:\n",
    "        factorial *= i\n",
    "        i += 1\n",
    "    print(\"Factorial of\", num, \"is:\", factorial)"
   ]
  },
  {
   "cell_type": "code",
   "execution_count": null,
   "id": "bc298a0a-0b27-4739-ac8d-560c109bae9d",
   "metadata": {},
   "outputs": [],
   "source": []
  }
 ],
 "metadata": {
  "kernelspec": {
   "display_name": "Python 3 (ipykernel)",
   "language": "python",
   "name": "python3"
  },
  "language_info": {
   "codemirror_mode": {
    "name": "ipython",
    "version": 3
   },
   "file_extension": ".py",
   "mimetype": "text/x-python",
   "name": "python",
   "nbconvert_exporter": "python",
   "pygments_lexer": "ipython3",
   "version": "3.13.3"
  }
 },
 "nbformat": 4,
 "nbformat_minor": 5
}
